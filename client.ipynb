{
 "cells": [
  {
   "cell_type": "code",
   "execution_count": 1,
   "metadata": {},
   "outputs": [],
   "source": [
    "import os\n",
    "import time\n",
    "import cv2\n",
    "import requests\n",
    "import json\n",
    "import numpy as np\n",
    "import tensorflow as tf\n",
    "from models.data_prepare import load_and_preprocess_image_pridict\n",
    "from models.config import TABLE_PATH, TEST_PATH"
   ]
  },
  {
   "cell_type": "markdown",
   "metadata": {},
   "source": [
    "## 配置信息"
   ]
  },
  {
   "cell_type": "code",
   "execution_count": 2,
   "metadata": {},
   "outputs": [],
   "source": [
    "#字典\n",
    "with open(TABLE_PATH, 'r',encoding='gbk') as f:\n",
    "    inv_table = [char.strip() for char in f]+[' ']*2"
   ]
  },
  {
   "cell_type": "code",
   "execution_count": 3,
   "metadata": {},
   "outputs": [],
   "source": [
    "#测试数据集\n",
    "test_all_image_paths = [TEST_PATH + img for img in sorted(os.listdir(TEST_PATH))]"
   ]
  },
  {
   "cell_type": "markdown",
   "metadata": {},
   "source": [
    "## 调用tensorflow serving方法"
   ]
  },
  {
   "cell_type": "code",
   "execution_count": 4,
   "metadata": {},
   "outputs": [],
   "source": [
    "def text_ocr(image_list):\n",
    "    '''\n",
    "    矩形框文字识别\n",
    "    '''\n",
    "    result_list = []\n",
    "    input_image = []\n",
    "    #输入的batch图片中的最大长度\n",
    "    max_length = max([int(32*img.shape[1]/img.shape[0]) for img in image_list])\n",
    "    #先保持长宽比，将图片高度resize到32，再在图片末尾进行0填充，保持同样图片长度\n",
    "    for img in image_list:\n",
    "        image = cv2.resize(img, (int(32*img.shape[1]/img.shape[0]), 32), 3)\n",
    "        padding_im = np.zeros((32, max_length, 3), dtype=np.float32)\n",
    "        padding_im[:, 0:img.shape[1],:] = image\n",
    "        input_image.append(padding_im.tolist())\n",
    "    url = 'http://192.168.46.230:7501/v1/models/crnn:predict'\n",
    "    headers = {\"content-type\": \"application/json\"}\n",
    "    data = json.dumps({\n",
    "            \"signature_name\": 'serving_default',\n",
    "            \"instances\":input_image})\n",
    "    predictions = requests.post(url,data=data, headers=headers,timeout=50).json()\n",
    "    if 'predictions' in predictions:\n",
    "        if len(predictions['predictions']) > 0:\n",
    "            for sentence in predictions['predictions']:\n",
    "                result = ''\n",
    "                for i in range(len(sentence)):\n",
    "                    char_index = np.argmax(sentence[i])\n",
    "                    if char_index != len(inv_table):\n",
    "                        result +=  inv_table[char_index]\n",
    "                result_list.append(result)\n",
    "    return result_list"
   ]
  },
  {
   "cell_type": "markdown",
   "metadata": {},
   "source": [
    "## 准备图片"
   ]
  },
  {
   "cell_type": "code",
   "execution_count": 5,
   "metadata": {},
   "outputs": [],
   "source": [
    "image_list = []\n",
    "for i in range(81,90):\n",
    "    image_list.append(load_and_preprocess_image_pridict(test_all_image_paths[i], mode = 'client'))"
   ]
  },
  {
   "cell_type": "markdown",
   "metadata": {},
   "source": [
    "## 调用接口"
   ]
  },
  {
   "cell_type": "code",
   "execution_count": 6,
   "metadata": {
    "tags": []
   },
   "outputs": [
    {
     "name": "stdout",
     "output_type": "stream",
     "text": [
      "识别时间： 27.314571142196655\n",
      "识别结果： ['检查 期:2019-12-30', '检查医生:迟琼', '项目名称', '检查结果', '单位', '提示', '参考值', '1.32', 'PY.乙肝病毒表面抗原定量']\n"
     ]
    }
   ],
   "source": [
    "start = time.time()\n",
    "result = text_ocr(image_list)\n",
    "print('识别时间：', time.time()-start)\n",
    "print('识别结果：', result)"
   ]
  }
 ],
 "metadata": {
  "kernelspec": {
   "display_name": "Python 3",
   "language": "python",
   "name": "python3"
  },
  "language_info": {
   "codemirror_mode": {
    "name": "ipython",
    "version": 3
   },
   "file_extension": ".py",
   "mimetype": "text/x-python",
   "name": "python",
   "nbconvert_exporter": "python",
   "pygments_lexer": "ipython3",
   "version": "3.7.7-final"
  }
 },
 "nbformat": 4,
 "nbformat_minor": 4
}
