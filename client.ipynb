{
 "cells": [
  {
   "cell_type": "code",
   "execution_count": 1,
   "metadata": {},
   "outputs": [],
   "source": [
    "import os\n",
    "import time\n",
    "import cv2\n",
    "import requests\n",
    "import json\n",
    "import numpy as np\n",
    "import tensorflow as tf\n",
    "from models.config import TABLE_PATH, TEST_PATH, OUTPUT_SHAPE"
   ]
  },
  {
   "cell_type": "markdown",
   "metadata": {},
   "source": [
    "## 配置信息"
   ]
  },
  {
   "cell_type": "code",
   "execution_count": 2,
   "metadata": {},
   "outputs": [],
   "source": [
    "#字典\n",
    "with open(TABLE_PATH, 'r',encoding='utf8') as f:\n",
    "    inv_table = [char.strip() for char in f]+[' ']*2"
   ]
  },
  {
   "cell_type": "code",
   "execution_count": 3,
   "metadata": {},
   "outputs": [],
   "source": [
    "#测试数据集\n",
    "test_all_image_paths = [TEST_PATH + img for img in sorted(os.listdir(TEST_PATH))]"
   ]
  },
  {
   "cell_type": "markdown",
   "metadata": {},
   "source": [
    "## 调用tensorflow serving方法"
   ]
  },
  {
   "cell_type": "code",
   "execution_count": 4,
   "metadata": {},
   "outputs": [],
   "source": [
    "def text_ocr(image_list):\n",
    "    '''\n",
    "    矩形框文字识别\n",
    "    '''\n",
    "    result_list = []\n",
    "    input_image = []\n",
    "    for img in image_list:\n",
    "        image = cv2.resize(img, (OUTPUT_SHAPE[1], OUTPUT_SHAPE[0]), 3)\n",
    "        image = image.reshape(OUTPUT_SHAPE)\n",
    "        input_image.append(image.tolist())\n",
    "    url = 'http://192.168.46.230:8501/v1/models/crnn:predict'\n",
    "    headers = {\"content-type\": \"application/json\"}\n",
    "    data = json.dumps({\n",
    "            \"signature_name\": 'serving_default',\n",
    "            \"instances\":input_image})\n",
    "    predictions = requests.post(url,data=data, headers=headers).json()\n",
    "    if 'predictions' in predictions:\n",
    "        if len(predictions['predictions']) > 0:\n",
    "            for sentense in predictions['predictions']:\n",
    "                result = ''\n",
    "                for i in range(len(predictions['predictions'][0])):\n",
    "                    char_index = np.argmax(predictions['predictions'][0][i])\n",
    "                    if char_index != len(inv_table):\n",
    "                        result +=  inv_table[char_index]\n",
    "                result_list.append(result)\n",
    "    return result_list"
   ]
  },
  {
   "cell_type": "markdown",
   "metadata": {},
   "source": [
    "## 准备图片"
   ]
  },
  {
   "cell_type": "code",
   "execution_count": null,
   "metadata": {},
   "outputs": [],
   "source": [
    "image = tf.io.read_file(test_all_image_paths[4])\n",
    "image = tf.image.decode_jpeg(image, channels=3)\n",
    "image = tf.image.resize(image, [32, 280]).numpy()\n",
    "image_list = [image]*100"
   ]
  },
  {
   "cell_type": "markdown",
   "metadata": {},
   "source": [
    "## 调用接口"
   ]
  },
  {
   "cell_type": "code",
   "execution_count": null,
   "metadata": {},
   "outputs": [],
   "source": [
    "start = time.time()\n",
    "result = text_ocr(image_list)\n",
    "print('识别时间：', time.time()-start)\n",
    "print('识别结果：', result)"
   ]
  }
 ],
 "metadata": {
  "kernelspec": {
   "display_name": "Python 3",
   "language": "python",
   "name": "python3"
  },
  "language_info": {
   "codemirror_mode": {
    "name": "ipython",
    "version": 3
   },
   "file_extension": ".py",
   "mimetype": "text/x-python",
   "name": "python",
   "nbconvert_exporter": "python",
   "pygments_lexer": "ipython3",
   "version": "3.6.10"
  }
 },
 "nbformat": 4,
 "nbformat_minor": 4
}
